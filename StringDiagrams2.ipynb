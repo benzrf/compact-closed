{
 "cells": [
  {
   "cell_type": "code",
   "execution_count": 1,
   "metadata": {},
   "outputs": [],
   "source": [
    ":ext NoMonomorphismRestriction FlexibleContexts FlexibleInstances UndecidableInstances\n",
    ":ext MultiParamTypeClasses TypeFamilies TemplateHaskell GeneralizedNewtypeDeriving DeriveDataTypeable"
   ]
  },
  {
   "cell_type": "code",
   "execution_count": 2,
   "metadata": {},
   "outputs": [],
   "source": [
    "import Data.Maybe\n",
    "import Data.Typeable\n",
    "\n",
    "import Diagrams.Prelude\n",
    "import Diagrams.Backend.Cairo\n",
    "import IHaskell.Display\n",
    "import IHaskell.Display.Diagrams\n",
    "\n",
    "type D = Diagram B"
   ]
  },
  {
   "cell_type": "code",
   "execution_count": 3,
   "metadata": {},
   "outputs": [],
   "source": [
    "d :: D -> D\n",
    "d = frame 0.5"
   ]
  },
  {
   "cell_type": "code",
   "execution_count": 4,
   "metadata": {
    "scrolled": true
   },
   "outputs": [
    {
     "data": {
      "image/png": "[encoded data removed]"
     },
     "metadata": {},
     "output_type": "display_data"
    }
   ],
   "source": [
    "-- testing out juxtaposition of complex types\n",
    "cr, tc :: (D, [P2 Double])\n",
    "cr = (circle 1, [p2 (1, 0)])\n",
    "tc = (triangle 1, [p2 (0, 0)])\n",
    "\n",
    "d $ let (dia, pts) = hsep 0.4 [cr, tc]\n",
    "    in  dia <> cubicSpline False pts"
   ]
  },
  {
   "cell_type": "markdown",
   "metadata": {},
   "source": [
    "# String-drawing stuff"
   ]
  },
  {
   "cell_type": "code",
   "execution_count": 5,
   "metadata": {},
   "outputs": [],
   "source": [
    "cOrtho :: V2 Double -> Trail V2 Double\n",
    "cOrtho dr\n",
    "  | abs dx < 0.001 || abs dy < 0.001 = fromOffsets [dr]\n",
    "  | otherwise = mconcat [h, c0, v, c1, h]\n",
    "  where dx :& dy = coords dr\n",
    "        turnRad = min (abs dx / 5) (abs dy / 5)\n",
    "        h = origin ~~ (unitX ^* (signum dx * (abs dx / 2 - turnRad)))\n",
    "        v = origin ~~ (unitY ^* (signum dy * (abs dy - turnRad * 2)))\n",
    "        a dir sgn = arc' turnRad dir (sgn *^ quarterTurn)\n",
    "        c0 | dy > 0 = a (negated yDir) 1    | otherwise = a yDir (-1)\n",
    "        c1 | dy > 0 = a (negated xDir) (-1) | otherwise = a (negated xDir) 1"
   ]
  },
  {
   "cell_type": "code",
   "execution_count": 6,
   "metadata": {},
   "outputs": [
    {
     "data": {
      "image/png": "[encoded data removed]"
     },
     "metadata": {},
     "output_type": "display_data"
    },
    {
     "data": {
      "text/plain": [
       "1.0"
      ]
     },
     "metadata": {},
     "output_type": "display_data"
    }
   ],
   "source": [
    "d . hsep 0.5 . map (stroke . cOrtho . r2) $ [(1, -1), (5, 5), (-3, -1), (1, 0)]\n",
    "width . diagram $ stroke (cOrtho (r2 (1, -1)))"
   ]
  },
  {
   "cell_type": "markdown",
   "metadata": {},
   "source": [
    "# General functionality"
   ]
  },
  {
   "cell_type": "code",
   "execution_count": 7,
   "metadata": {},
   "outputs": [],
   "source": [
    "-- TODO: types of ins & outs, labels and directedness for strings, maybe braiding?\n",
    "-- We store the positions of ports as point subdiagrams.\n",
    "data PortName = In | Out deriving (Show, Eq, Ord, Typeable)\n",
    "instance IsName PortName\n",
    "newtype StringDiagram = SD {getSD :: D}\n",
    "makeWrapped ''StringDiagram"
   ]
  },
  {
   "cell_type": "code",
   "execution_count": 8,
   "metadata": {},
   "outputs": [],
   "source": [
    "showSD, examineSD :: StringDiagram -> D\n",
    "showSD (SD d) = dottify red In . dottify blue Out $ d\n",
    "  where dottify c n = withNameAll n (applyAll . map (atop . dot c . location))\n",
    "        dot c p = circle 0.05 # lw 0 # fc c # moveTo p\n",
    "examineSD = showOrigin . bg pink . showSD\n",
    "\n",
    "showSDs, examineSDs :: [StringDiagram] -> D\n",
    "showSDs = hsep 1 . map showSD\n",
    "examineSDs = hsep 1 . map examineSD\n",
    "\n",
    "instance IHaskellDisplay StringDiagram where\n",
    "  display = display . frame 0.5 . showSD"
   ]
  },
  {
   "cell_type": "code",
   "execution_count": 9,
   "metadata": {},
   "outputs": [],
   "source": [
    "namePoints :: IsName nm => nm -> [P2 Double] -> D -> D\n",
    "namePoints nm = applyAll . map (\\p -> namePoint (const p) nm)\n",
    "\n",
    "mkSD :: [P2 Double] -> [P2 Double] -> D -> StringDiagram\n",
    "mkSD iports oports = SD . frame 0.125 . alignTL . namePoints In iports . namePoints Out oports\n",
    "\n",
    "-- Make a node out of the given D, with the given number of in and out ports, spaced evenly.\n",
    "sdNode :: Int -> Int -> D -> StringDiagram\n",
    "sdNode inCount outCount d = mkSD iports oports d\n",
    "  where (loX, hiX) = fromMaybe (0, 0) (extentX d)\n",
    "        (loY, hiY) = fromMaybe (0, 0) (extentY d)\n",
    "        {- -- spaced does the right thing for n=0\n",
    "        spaced x n = map (\\i -> p2 (x, fromIntegral i / fromIntegral (n + 1))) [1..n]\n",
    "        fit = translateY loY . scaleY (hiY - loY)\n",
    "        iports = spaced loX inCount # fit\n",
    "        oports = spaced hiX outCount # fit -}\n",
    "        iports = map (\\n -> p2 (loX, loY + 0.375 + fromIntegral n)) [0..inCount - 1]\n",
    "        oports = map (\\n -> p2 (hiX, loY + 0.375 + fromIntegral n)) [0..outCount - 1]\n",
    "\n",
    "-- TODO: handle arbitrary strings (requires handling name size correctly)\n",
    "boxNode :: Char -> Int -> Int -> StringDiagram\n",
    "boxNode label inCount outCount = sdNode inCount outCount box\n",
    "  where box = (rect 1 h <> text [label]) # fontSize (local 0.5)\n",
    "        h = 0.75 + fromIntegral (max inCount outCount) - 1"
   ]
  },
  {
   "cell_type": "code",
   "execution_count": 10,
   "metadata": {},
   "outputs": [],
   "source": [
    "instance Semigroup StringDiagram\n",
    "instance Monoid StringDiagram where\n",
    "  mempty = SD mempty\n",
    "  SD d0 `mappend` SD d1 = SD (d0 === d1)"
   ]
  },
  {
   "cell_type": "code",
   "execution_count": 11,
   "metadata": {},
   "outputs": [],
   "source": [
    "data Side = LeftS | RightS deriving (Show, Eq, Ord, Typeable)\n",
    "instance IsName Side\n",
    "\n",
    "-- TODO: make this more type-safe wrt matching in/out\n",
    "--- Note that this is left-to-right composition, unlike (.).\n",
    "sdCompose, (>>>) :: StringDiagram -> StringDiagram -> StringDiagram\n",
    "sdCompose (SD d0) (SD d1) = SD $ juxt <> strings\n",
    "  where combo = hsep 0.5 [LeftS .>> d0, RightS .>> d1]\n",
    "        ports = [LeftS .> In, LeftS .> Out, RightS .> In, RightS .> Out]\n",
    "        [newIns, midOuts, midIns, newOuts] =\n",
    "          map (\\k -> concat (lookup k (names combo))) ports\n",
    "        juxt = combo # localize # namePoints In newIns # namePoints Out newOuts\n",
    "        strings = mconcat (zipWith string midOuts midIns)\n",
    "        string o i = stroke $ cOrtho (i .-. o) `at` o\n",
    "(>>>) = sdCompose\n",
    "infixr 5 >>>\n",
    "\n",
    "-- Note that since diagrams form a category and not a monoid, we can't make this a true homomorphism!\n",
    "sdChain :: [StringDiagram] -> StringDiagram\n",
    "sdChain [] = SD mempty\n",
    "sdChain sds = foldr1 sdCompose sds"
   ]
  },
  {
   "cell_type": "markdown",
   "metadata": {},
   "source": [
    "# Specific components"
   ]
  },
  {
   "cell_type": "code",
   "execution_count": 12,
   "metadata": {},
   "outputs": [],
   "source": [
    "pad375 :: D -> D\n",
    "pad375 d = let s = strutY 0.375 in s === d === s"
   ]
  },
  {
   "cell_type": "code",
   "execution_count": 13,
   "metadata": {},
   "outputs": [
    {
     "data": {
      "image/png": "[encoded data removed]"
     },
     "metadata": {},
     "output_type": "display_data"
    }
   ],
   "source": [
    "sdID :: StringDiagram\n",
    "sdID = sdNode 1 1 . pad375 $ seg\n",
    "  where seg = p2 (0, 0) ~~ p2 (1, 0)\n",
    "\n",
    "examineSD sdID"
   ]
  },
  {
   "cell_type": "code",
   "execution_count": 14,
   "metadata": {},
   "outputs": [
    {
     "data": {
      "image/png": "[encoded data removed]"
     },
     "metadata": {},
     "output_type": "display_data"
    }
   ],
   "source": [
    "evRad = 0.5\n",
    "estrut = strutX (1 - evRad)\n",
    "\n",
    "ev, coev :: StringDiagram\n",
    "-- TODO make this nicer\n",
    "ev = sdNode 2 0 . centerX . pad375 $ arc' evRad yDir (-0.5 @@ turn) ||| estrut\n",
    "coev = sdNode 0 2 . centerX . pad375 $ estrut ||| arc' evRad yDir (0.5 @@ turn)\n",
    "\n",
    "examineSDs [coev, ev]"
   ]
  },
  {
   "cell_type": "code",
   "execution_count": 15,
   "metadata": {},
   "outputs": [
    {
     "data": {
      "image/png": "[encoded data removed]"
     },
     "metadata": {},
     "output_type": "display_data"
    }
   ],
   "source": [
    "fn = boxNode 'f' 1 1\n",
    "gn = boxNode 'g' 2 1\n",
    "examineSDs [fn, gn]"
   ]
  },
  {
   "cell_type": "markdown",
   "metadata": {},
   "source": [
    "# Testing"
   ]
  },
  {
   "cell_type": "code",
   "execution_count": 16,
   "metadata": {},
   "outputs": [
    {
     "data": {
      "image/png": "[encoded data removed]"
     },
     "metadata": {},
     "output_type": "display_data"
    }
   ],
   "source": [
    "-- id : V → V\n",
    "-- fn : V → V\n",
    "-- gn : V ⊗ V → V\n",
    "-- fn ⊗ gn : V ⊗ V ⊗ V → V ⊗ V\n",
    "showSDs [sdID, fn, gn, fn <> gn]"
   ]
  },
  {
   "cell_type": "code",
   "execution_count": 17,
   "metadata": {},
   "outputs": [
    {
     "data": {
      "image/png": "[encoded data removed]"
     },
     "metadata": {},
     "output_type": "display_data"
    }
   ],
   "source": [
    "-- g ∘ (id ⊗ f) : V ⊗ V → V\n",
    "sdID <> fn >>> gn"
   ]
  },
  {
   "cell_type": "code",
   "execution_count": 18,
   "metadata": {},
   "outputs": [
    {
     "data": {
      "image/png": "[encoded data removed]"
     },
     "metadata": {},
     "output_type": "display_data"
    },
    {
     "data": {
      "image/png": "[encoded data removed]"
     },
     "metadata": {},
     "output_type": "display_data"
    }
   ],
   "source": [
    "coev >>> ev\n",
    "ev >>> coev"
   ]
  },
  {
   "cell_type": "code",
   "execution_count": 19,
   "metadata": {},
   "outputs": [
    {
     "data": {
      "image/png": "[encoded data removed]"
     },
     "metadata": {},
     "output_type": "display_data"
    }
   ],
   "source": [
    "coev >>> sdID <> sdID >>> ev"
   ]
  },
  {
   "cell_type": "code",
   "execution_count": 20,
   "metadata": {},
   "outputs": [
    {
     "data": {
      "image/png": "[encoded data removed]"
     },
     "metadata": {},
     "output_type": "display_data"
    },
    {
     "data": {
      "image/png": "[encoded data removed]"
     },
     "metadata": {},
     "output_type": "display_data"
    }
   ],
   "source": [
    "coev <> sdID >>> fn <> boxNode 'g' 2 3 >>> sdID <> sdID <> ev >>> ev\n",
    "boxNode 'g' 2 3 <> fn >>> sdID <> sdID <> sdID <> sdID >>> ev <> ev"
   ]
  },
  {
   "cell_type": "markdown",
   "metadata": {},
   "source": [
    "### Kink"
   ]
  },
  {
   "cell_type": "code",
   "execution_count": 21,
   "metadata": {},
   "outputs": [
    {
     "data": {
      "image/png": "[encoded data removed]"
     },
     "metadata": {},
     "output_type": "display_data"
    }
   ],
   "source": [
    "sdID <> coev >>> ev <> sdID"
   ]
  },
  {
   "cell_type": "markdown",
   "metadata": {},
   "source": [
    "### Trace"
   ]
  },
  {
   "cell_type": "code",
   "execution_count": 22,
   "metadata": {},
   "outputs": [
    {
     "data": {
      "image/png": "[encoded data removed]"
     },
     "metadata": {},
     "output_type": "display_data"
    }
   ],
   "source": [
    "coev >>> fn <> sdID >>> ev"
   ]
  },
  {
   "cell_type": "markdown",
   "metadata": {},
   "source": [
    "# `Tensor` integration"
   ]
  },
  {
   "cell_type": "code",
   "execution_count": 28,
   "metadata": {},
   "outputs": [
    {
     "data": {
      "text/html": [
       "<style>/* Styles used for the Hoogle display in the pager */\n",
       ".hoogle-doc {\n",
       "display: block;\n",
       "padding-bottom: 1.3em;\n",
       "padding-left: 0.4em;\n",
       "}\n",
       ".hoogle-code {\n",
       "display: block;\n",
       "font-family: monospace;\n",
       "white-space: pre;\n",
       "}\n",
       ".hoogle-text {\n",
       "display: block;\n",
       "}\n",
       ".hoogle-name {\n",
       "color: green;\n",
       "font-weight: bold;\n",
       "}\n",
       ".hoogle-head {\n",
       "font-weight: bold;\n",
       "}\n",
       ".hoogle-sub {\n",
       "display: block;\n",
       "margin-left: 0.4em;\n",
       "}\n",
       ".hoogle-package {\n",
       "font-weight: bold;\n",
       "font-style: italic;\n",
       "}\n",
       ".hoogle-module {\n",
       "font-weight: bold;\n",
       "}\n",
       ".hoogle-class {\n",
       "font-weight: bold;\n",
       "}\n",
       ".get-type {\n",
       "color: green;\n",
       "font-weight: bold;\n",
       "font-family: monospace;\n",
       "display: block;\n",
       "white-space: pre-wrap;\n",
       "}\n",
       ".show-type {\n",
       "color: green;\n",
       "font-weight: bold;\n",
       "font-family: monospace;\n",
       "margin-left: 1em;\n",
       "}\n",
       ".mono {\n",
       "font-family: monospace;\n",
       "display: block;\n",
       "}\n",
       ".err-msg {\n",
       "color: red;\n",
       "font-style: italic;\n",
       "font-family: monospace;\n",
       "white-space: pre;\n",
       "display: block;\n",
       "}\n",
       "#unshowable {\n",
       "color: red;\n",
       "font-weight: bold;\n",
       "}\n",
       ".err-msg.in.collapse {\n",
       "padding-top: 0.7em;\n",
       "}\n",
       ".highlight-code {\n",
       "white-space: pre;\n",
       "font-family: monospace;\n",
       "}\n",
       ".suggestion-warning { \n",
       "font-weight: bold;\n",
       "color: rgb(200, 130, 0);\n",
       "}\n",
       ".suggestion-error { \n",
       "font-weight: bold;\n",
       "color: red;\n",
       "}\n",
       ".suggestion-name {\n",
       "font-weight: bold;\n",
       "}\n",
       "</style><span class='err-msg'>Parse error (line 1, column 1): Unknown directive: 'r'.</span>"
      ],
      "text/plain": [
       "Parse error (line 1, column 1): Unknown directive: 'r'."
      ]
     },
     "metadata": {},
     "output_type": "display_data"
    }
   ],
   "source": [
    ":set -i/home/benzrf/codes/haskell/Tensor"
   ]
  },
  {
   "cell_type": "code",
   "execution_count": 27,
   "metadata": {},
   "outputs": [
    {
     "data": {
      "text/html": [
       "<style>/* Styles used for the Hoogle display in the pager */\n",
       ".hoogle-doc {\n",
       "display: block;\n",
       "padding-bottom: 1.3em;\n",
       "padding-left: 0.4em;\n",
       "}\n",
       ".hoogle-code {\n",
       "display: block;\n",
       "font-family: monospace;\n",
       "white-space: pre;\n",
       "}\n",
       ".hoogle-text {\n",
       "display: block;\n",
       "}\n",
       ".hoogle-name {\n",
       "color: green;\n",
       "font-weight: bold;\n",
       "}\n",
       ".hoogle-head {\n",
       "font-weight: bold;\n",
       "}\n",
       ".hoogle-sub {\n",
       "display: block;\n",
       "margin-left: 0.4em;\n",
       "}\n",
       ".hoogle-package {\n",
       "font-weight: bold;\n",
       "font-style: italic;\n",
       "}\n",
       ".hoogle-module {\n",
       "font-weight: bold;\n",
       "}\n",
       ".hoogle-class {\n",
       "font-weight: bold;\n",
       "}\n",
       ".get-type {\n",
       "color: green;\n",
       "font-weight: bold;\n",
       "font-family: monospace;\n",
       "display: block;\n",
       "white-space: pre-wrap;\n",
       "}\n",
       ".show-type {\n",
       "color: green;\n",
       "font-weight: bold;\n",
       "font-family: monospace;\n",
       "margin-left: 1em;\n",
       "}\n",
       ".mono {\n",
       "font-family: monospace;\n",
       "display: block;\n",
       "}\n",
       ".err-msg {\n",
       "color: red;\n",
       "font-style: italic;\n",
       "font-family: monospace;\n",
       "white-space: pre;\n",
       "display: block;\n",
       "}\n",
       "#unshowable {\n",
       "color: red;\n",
       "font-weight: bold;\n",
       "}\n",
       ".err-msg.in.collapse {\n",
       "padding-top: 0.7em;\n",
       "}\n",
       ".highlight-code {\n",
       "white-space: pre;\n",
       "font-family: monospace;\n",
       "}\n",
       ".suggestion-warning { \n",
       "font-weight: bold;\n",
       "color: rgb(200, 130, 0);\n",
       "}\n",
       ".suggestion-error { \n",
       "font-weight: bold;\n",
       "color: red;\n",
       "}\n",
       ".suggestion-name {\n",
       "font-weight: bold;\n",
       "}\n",
       "</style><span class='err-msg'>&lt;interactive&gt;:1:1: error: attempting to use module ‘Classes’ (/home/benzrf/codes/haskell/Tensor/Classes.hs) which is not loaded</span>"
      ],
      "text/plain": [
       "<interactive>:1:1: error: attempting to use module ‘Classes’ (/home/benzrf/codes/haskell/Tensor/Classes.hs) which is not loaded"
      ]
     },
     "metadata": {},
     "output_type": "display_data"
    }
   ],
   "source": [
    "import Classes"
   ]
  }
 ],
 "metadata": {
  "kernelspec": {
   "display_name": "Haskell",
   "language": "haskell",
   "name": "haskell"
  },
  "language_info": {
   "codemirror_mode": "ihaskell",
   "file_extension": ".hs",
   "name": "haskell",
   "version": "8.0.2"
  }
 },
 "nbformat": 4,
 "nbformat_minor": 2
}
